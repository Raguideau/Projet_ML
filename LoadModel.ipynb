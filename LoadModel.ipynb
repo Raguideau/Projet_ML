{
 "cells": [
  {
   "cell_type": "code",
   "execution_count": null,
   "metadata": {},
   "outputs": [],
   "source": [
    "from __future__ import absolute_import, division, print_function, unicode_literals\n",
    "import numpy as np\n",
    "from tensorflow import keras\n",
    "import tensorflow as tf\n",
    "import os\n",
    "from PIL import Image\n",
    "from io import BytesIO\n",
    "from skimage import io\n",
    "from sklearn.utils import class_weight\n",
    "\n",
    "tf.config.experimental.list_physical_devices('GPU')\n"
   ]
  },
  {
   "cell_type": "code",
   "execution_count": null,
   "metadata": {},
   "outputs": [],
   "source": [
    "train_path = r\"./Data/nov2019_train\"\n",
    "test_path = r\"./Data/nov2019_test\"\n",
    "label_train = r\"./Data/label_nov2019_train.txt\"\n",
    "BATCH_SIZE = 128\n",
    "EPOCHS = 100\n",
    "class_weight = {0: 1.95454992,\n",
    "                1: 0.67187447}"
   ]
  },
  {
   "cell_type": "code",
   "execution_count": null,
   "metadata": {},
   "outputs": [],
   "source": [
    "from tensorflow.keras.models import Sequential\n",
    "from tensorflow.keras.layers import Dense, Conv2D, Flatten,MaxPooling2D,Dropout#create model\n",
    "def import_data(path): \n",
    "    count = 0\n",
    "    x = []\n",
    "    for filename in os.listdir(path):\n",
    "        img = Image.open(os.path.join(path,filename))\n",
    "        img=img.convert('L')\n",
    "        img = np.array(img)        \n",
    "        x.append(img)\n",
    "        count +=1\n",
    "    x = np.array(x)\n",
    "    x = x.reshape(count,80,80,1)\n",
    "    x = x.astype(np.float32)\n",
    "    return x\n",
    "\n",
    "def get_untrained_model():\n",
    "    model = Sequential()#add model layers\n",
    "    model.add(Conv2D(64,7, activation='relu',padding=\"same\", input_shape=[80,80,1]))\n",
    "    model.add(MaxPooling2D(2))\n",
    "    model.add(Conv2D(128,3, activation='relu',padding=\"same\"))\n",
    "    model.add(Conv2D(128,3, activation='relu',padding=\"same\"))\n",
    "    model.add(MaxPooling2D(2))\n",
    "    model.add(Conv2D(256, 3, activation='relu',padding=\"same\"))\n",
    "    model.add(Conv2D(256, 3, activation='relu',padding=\"same\"))\n",
    "    model.add(MaxPooling2D(2))\n",
    "    model.add(Flatten())\n",
    "    model.add(Dense(128, activation='relu'))\n",
    "    model.add(Dropout(0.5))\n",
    "    model.add(Dense(64, activation='relu'))\n",
    "    model.add(Dropout(0.5))\n",
    "    model.add(Dense(2, activation='softmax'))\n",
    "    model.compile(optimizer='adam', loss='categorical_crossentropy', metrics=['accuracy'])\n",
    "    return model\n",
    "\n"
   ]
  },
  {
   "cell_type": "code",
   "execution_count": null,
   "metadata": {},
   "outputs": [],
   "source": [
    "from tensorflow.keras.models import load_model\n",
    "\n",
    "X_test = import_data(test_path)\n",
    "print(X_test.shape)\n",
    "model = get_untrained_model()\n",
    "model.load_weights('model.h5')\n",
    "model.summary()\n"
   ]
  },
  {
   "cell_type": "code",
   "execution_count": null,
   "metadata": {},
   "outputs": [],
   "source": [
    "result = model.predict_classes(X_test,batch_size=BATCH_SIZE, verbose=0)"
   ]
  },
  {
   "cell_type": "code",
   "execution_count": null,
   "metadata": {},
   "outputs": [],
   "source": [
    "with open(\"result_predict.txt\",\"w\") as f:\n",
    "    for i in range(len(result)):\n",
    "        f.write(\"%i\\n\" % (result[i]))\n",
    "        \n",
    "print(result.shape)\n",
    "print(result)\n"
   ]
  }
 ],
 "metadata": {
  "kernelspec": {
   "display_name": "Python 3",
   "language": "python",
   "name": "python3"
  },
  "language_info": {
   "codemirror_mode": {
    "name": "ipython",
    "version": 3
   },
   "file_extension": ".py",
   "mimetype": "text/x-python",
   "name": "python",
   "nbconvert_exporter": "python",
   "pygments_lexer": "ipython3",
   "version": "3.7.4"
  }
 },
 "nbformat": 4,
 "nbformat_minor": 2
}
