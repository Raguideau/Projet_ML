{
 "cells": [
  {
   "cell_type": "code",
   "execution_count": null,
   "metadata": {},
   "outputs": [],
   "source": [
    "from __future__ import absolute_import, division, print_function, unicode_literals\n",
    "import numpy as np\n",
    "from tensorflow import keras\n",
    "import tensorflow as tf\n",
    "import os\n",
    "from PIL import Image\n",
    "from io import BytesIO\n",
    "from skimage import io\n",
    "from sklearn.utils import class_weight\n",
    "\n",
    "tf.config.experimental.list_physical_devices('GPU')\n"
   ]
  },
  {
   "cell_type": "code",
   "execution_count": null,
   "metadata": {},
   "outputs": [],
   "source": [
    "train_path = r\"./Data/nov2019_train\"\n",
    "test_path = r\"./Data/nov2019_test\"\n",
    "label_train = r\"./Data/label_nov2019_train.txt\"\n",
    "BATCH_SIZE = 128\n",
    "EPOCHS = 100\n",
    "class_weight = {0: 1.95454992,\n",
    "                1: 0.67187447}"
   ]
  },
  {
   "cell_type": "code",
   "execution_count": null,
   "metadata": {},
   "outputs": [],
   "source": [
    "from tensorflow.keras.models import Sequential\n",
    "from tensorflow.keras.layers import Dense, Conv2D, Flatten,MaxPooling2D,Dropout#create model\n",
    "def import_data(path): \n",
    "    count = 0\n",
    "    x = []\n",
    "    for filename in os.listdir(path):\n",
    "        img = Image.open(os.path.join(path,filename))\n",
    "        img=img.convert('L')\n",
    "        img = np.array(img)        \n",
    "        x.append(img)\n",
    "        count +=1\n",
    "    x = np.array(x)\n",
    "    x = x.reshape(count,80,80,1)\n",
    "    x = x.astype(np.float32)\n",
    "    return x\n",
    "\n",
    "def get_untrained_model():\n",
    "    model = Sequential()#add model layers\n",
    "    model.add(Conv2D(64,7, activation='relu',padding=\"same\", input_shape=[80,80,1]))\n",
    "    model.add(MaxPooling2D(2))\n",
    "    model.add(Conv2D(128,3, activation='relu',padding=\"same\"))\n",
    "    model.add(Conv2D(128,3, activation='relu',padding=\"same\"))\n",
    "    model.add(MaxPooling2D(2))\n",
    "    model.add(Conv2D(256, 3, activation='relu',padding=\"same\"))\n",
    "    model.add(Conv2D(256, 3, activation='relu',padding=\"same\"))\n",
    "    model.add(MaxPooling2D(2))\n",
    "    model.add(Flatten())\n",
    "    model.add(Dense(128, activation='relu'))\n",
    "    model.add(Dropout(0.5))\n",
    "    model.add(Dense(64, activation='relu'))\n",
    "    model.add(Dropout(0.5))\n",
    "    model.add(Dense(2, activation='softmax'))\n",
    "    model.compile(optimizer='adam', loss='categorical_crossentropy', metrics=['accuracy'])\n",
    "    return model\n",
    "\n",
    "def model_cross_validation(n_splits, random_state):\n",
    "    kfold = StratifiedKFold(n_splits=4, shuffle=True, random_state=7)\n",
    "    cvscores = []\n",
    "    y_train_label = to_categorical(y_train)\n",
    "\n",
    "    for train, validation in kfold.split(X_train, y_train):\n",
    "        model = get_untrained_model()\n",
    "        model.fit(X_train[train], y_train_label[train], epochs=EPOCHS, batch_size=BATCH_SIZE, verbose=1,callbacks=callbacks,class_weight=class_weight)\n",
    "        scores = model.evaluate(X_train[validation], y_train_label[validation], verbose=0)\n",
    "        print(\"%s: %.2f%%\" % (model.metrics_names[1], scores[1]*100))\n",
    "        cvscores.append(scores[1] * 100)\n",
    "    # serialize weights to HDF5\n",
    "    model.save_weights(\"model.h5\")\n",
    "    print(\"Saved model to disk\")\n",
    "\n",
    "    print(\"%.2f%% (+/- %.2f%%)\" % (np.mean(cvscores), np.std(cvscores)))\n"
   ]
  },
  {
   "cell_type": "code",
   "execution_count": null,
   "metadata": {},
   "outputs": [],
   "source": [
    "file_label = open(label_train,\"r+\")\n",
    "y_train = [item for item in file_label.read().splitlines()]\n",
    "from tensorflow.keras.utils import to_categorical#one-hot encode target column\n"
   ]
  },
  {
   "cell_type": "code",
   "execution_count": null,
   "metadata": {},
   "outputs": [],
   "source": [
    "from tensorflow.python.client import device_lib\n",
    "print(device_lib.list_local_devices())\n",
    "tf.test.is_gpu_available(cuda_only=False, min_cuda_compute_capability=None)"
   ]
  },
  {
   "cell_type": "code",
   "execution_count": null,
   "metadata": {},
   "outputs": [],
   "source": [
    "X_train = import_data(train_path)\n"
   ]
  },
  {
   "cell_type": "code",
   "execution_count": null,
   "metadata": {
    "scrolled": true
   },
   "outputs": [],
   "source": [
    "from sklearn.model_selection import StratifiedKFold\n",
    "from tensorflow.keras.callbacks import EarlyStopping\n",
    "#tf.debugging.set_log_device_placement(True)\n",
    "\n",
    "gpus = tf.config.experimental.list_logical_devices('GPU')\n",
    "callbacks = [EarlyStopping(monitor='loss', patience=10, verbose=0)]\n",
    "\n",
    "if gpus:\n",
    "  # Replicate your computation on multiple GPUs\n",
    "  for gpu in gpus:\n",
    "    with tf.device(gpu.name):\n",
    "        print(gpu.name)\n",
    "        model_cross_validation(4, 7)\n",
    "else :\n",
    "    model_cross_validation(4, 7)"
   ]
  },
  {
   "cell_type": "code",
   "execution_count": null,
   "metadata": {},
   "outputs": [],
   "source": [
    "from tensorflow.keras.models import load_model\n",
    "\n",
    "X_test = import_data(test_path)\n",
    "print(X_test.shape)\n",
    "model = get_untrained_model()\n",
    "model.load_weights('model.h5')\n",
    "model.summary()"
   ]
  },
  {
   "cell_type": "code",
   "execution_count": null,
   "metadata": {
    "scrolled": true
   },
   "outputs": [],
   "source": [
    "X_test = X_test\n",
    "result = model.predict_classes(X_test,batch_size=BATCH_SIZE, verbose=0)"
   ]
  },
  {
   "cell_type": "code",
   "execution_count": null,
   "metadata": {
    "scrolled": true
   },
   "outputs": [],
   "source": [
    "with open(\"result_predict.txt\",\"w\") as f:\n",
    "    for i in range(len(result)):\n",
    "        f.write(\"%i\\n\" % (result[i]))\n",
    "        \n",
    "print(result.shape)\n",
    "print(result)"
   ]
  },
  {
   "cell_type": "code",
   "execution_count": null,
   "metadata": {
    "scrolled": true
   },
   "outputs": [],
   "source": []
  },
  {
   "cell_type": "code",
   "execution_count": null,
   "metadata": {},
   "outputs": [],
   "source": []
  },
  {
   "cell_type": "code",
   "execution_count": null,
   "metadata": {},
   "outputs": [],
   "source": []
  }
 ],
 "metadata": {
  "kernelspec": {
   "display_name": "Python 3",
   "language": "python",
   "name": "python3"
  },
  "language_info": {
   "codemirror_mode": {
    "name": "ipython",
    "version": 3
   },
   "file_extension": ".py",
   "mimetype": "text/x-python",
   "name": "python",
   "nbconvert_exporter": "python",
   "pygments_lexer": "ipython3",
   "version": "3.7.4"
  }
 },
 "nbformat": 4,
 "nbformat_minor": 2
}
